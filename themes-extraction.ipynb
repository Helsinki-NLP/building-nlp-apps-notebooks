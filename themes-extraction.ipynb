{
 "cells": [
  {
   "cell_type": "markdown",
   "metadata": {},
   "source": [
    "# Themes extraction with pke\n",
    "\n",
    "**Themes** are topical keywords and phrases that are prominent in a document.\n",
    "\n",
    "To extract the themes we will use the [pke - Python keyphrase extraction](https://github.com/boudinfl/pke) toolkit. pke requires [SpaCy](https://spacy.io/usage) and a SpaCy model for the language of the document.\n",
    "\n",
    "Let's install spacy and pke first."
   ]
  },
  {
   "cell_type": "code",
   "execution_count": null,
   "metadata": {},
   "outputs": [],
   "source": [
    "import sys\n",
    "\n",
    "!{sys.executable} -m pip install spacy\n",
    "!{sys.executable} -m spacy download en_core_web_sm  # download the English SpaCy model\n",
    "!{sys.executable} -m pip install git+https://github.com/boudinfl/pke.git"
   ]
  },
  {
   "cell_type": "markdown",
   "metadata": {},
   "source": [
    "If you plan to use pke on a command-line installation of Python, you can use the following commands instead:\n",
    "\n",
    "```\n",
    "pip install spacy\n",
    "python -m spacy download en_core_web_sm\n",
    "pip install git+https://github.com/boudinfl/pke.git\n",
    "```"
   ]
  },
  {
   "cell_type": "markdown",
   "metadata": {},
   "source": [
    "Let's see how pke works. For this, we are going to use a raw text file called [wiki_gershwin.txt](wiki_gershwin.txt). We first import the module and initialize the keyphrase extraction model (here: TopicRank):"
   ]
  },
  {
   "cell_type": "code",
   "execution_count": null,
   "metadata": {},
   "outputs": [],
   "source": [
    "import pke\n",
    "\n",
    "extractor = pke.unsupervised.TopicRank()"
   ]
  },
  {
   "cell_type": "markdown",
   "metadata": {},
   "source": [
    "Load the content of the document, here document is expected to be in raw format (i.e. a simple text file). The document is automatically preprocessed and analyzed with SpaCy, using the language given in the parameter:"
   ]
  },
  {
   "cell_type": "code",
   "execution_count": null,
   "metadata": {},
   "outputs": [],
   "source": [
    "doc = open('wiki_gershwin.txt', 'r')\n",
    "text = doc.read()\n",
    "extractor.load_document(text, language='en')"
   ]
  },
  {
   "cell_type": "markdown",
   "metadata": {},
   "source": [
    "The keyphrase extraction consists of three steps:\n",
    "\n",
    "1. Candidate selection:  \n",
    "With TopicRank, the default candidates are sequences of nouns and adjectives (i.e. `(Noun|Adj)*`)\n",
    "\n",
    "2. Candidate weighting:  \n",
    "With TopicRank, this is done using a random walk algorithm.\n",
    "\n",
    "3. N-best candidate selection:  \n",
    "The 10 highest-scored candidates are selected. They are returned as (keyphrase, score) tuples."
   ]
  },
  {
   "cell_type": "code",
   "execution_count": null,
   "metadata": {},
   "outputs": [],
   "source": [
    "extractor.candidate_selection()\n",
    "extractor.candidate_weighting()\n",
    "keyphrases = extractor.get_n_best(n=10)\n",
    "\n",
    "print(\"Extracted themes:\")\n",
    "print(\"=================\")\n",
    "for keyphrase in keyphrases:\n",
    "    print(f'{keyphrase[1]:.5f}   {keyphrase[0]}')"
   ]
  },
  {
   "cell_type": "markdown",
   "metadata": {},
   "source": [
    "Next, you can try out different methods for extracting themes: supervised, unsupervised, graph. Compare the themes extracted. If your texts are in other languages than English, test the themes extraction for them and assess the quality. Is this something you might want to use for your final project?\n",
    "\n",
    "![Approaches implemented in pke](static/pke_methods.png)\n",
    "\n",
    "You can read more about the pke toolkit from their paper ([Boudin, 2016](https://aclanthology.org/C16-2015.pdf))."
   ]
  },
  {
   "cell_type": "markdown",
   "metadata": {},
   "source": [
    "<sub>By Dmitry Kan, updated by Mathias Creutz and Yves Scherrer</sub>"
   ]
  },
  {
   "cell_type": "code",
   "execution_count": null,
   "metadata": {},
   "outputs": [],
   "source": []
  }
 ],
 "metadata": {
  "kernelspec": {
   "display_name": "Python 3",
   "language": "python",
   "name": "python3"
  },
  "language_info": {
   "codemirror_mode": {
    "name": "ipython",
    "version": 3
   },
   "file_extension": ".py",
   "mimetype": "text/x-python",
   "name": "python",
   "nbconvert_exporter": "python",
   "pygments_lexer": "ipython3",
   "version": "3.8.10"
  }
 },
 "nbformat": 4,
 "nbformat_minor": 4
}
