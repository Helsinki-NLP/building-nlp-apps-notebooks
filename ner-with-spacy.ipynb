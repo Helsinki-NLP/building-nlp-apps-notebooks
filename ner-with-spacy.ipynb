{
 "cells": [
  {
   "cell_type": "markdown",
   "metadata": {},
   "source": [
    "# Named entity recognition with SpaCy\n",
    "\n",
    "[SpaCy](https://spacy.io/) is a great NLP library that allows you to do basic things, such as tokenization, morphology analysis, and dependency parsing. But spaCy also contains pre-trained models for named entity recognition and sentence segmentation, among other things.\n",
    "\n",
    "![spacy](static/spaCy.png)"
   ]
  },
  {
   "cell_type": "markdown",
   "metadata": {},
   "source": [
    "First, we need to install spaCy and download a model for the language that you want to analyze. Here, we download the Core-Web-Small model for English:"
   ]
  },
  {
   "cell_type": "code",
   "execution_count": null,
   "metadata": {},
   "outputs": [],
   "source": [
    "import sys\n",
    "\n",
    "!{sys.executable} -m pip install spacy\n",
    "!{sys.executable} -m spacy download en_core_web_sm"
   ]
  },
  {
   "cell_type": "markdown",
   "metadata": {},
   "source": [
    "### An example\n",
    "\n",
    "The following code snippet should identify several named entities (i.e., person names, place names, organizations, monetary sums, etc.):"
   ]
  },
  {
   "cell_type": "code",
   "execution_count": null,
   "metadata": {},
   "outputs": [],
   "source": [
    "import spacy\n",
    "\n",
    "# load the model that will be used for the task\n",
    "nlp = spacy.load('en_core_web_sm')\n",
    "\n",
    "# an example sentence\n",
    "s = 'Mathias Creutz Inc., a newcomer from Finland, has acquired Microsoft for $30,000,000,000.'\n",
    "\n",
    "# parse the text with the loaded model\n",
    "doc = nlp(s)\n",
    "\n",
    "# print the text, its location and the named entity tag\n",
    "for ent in doc.ents:\n",
    "    print(ent.text, ent.start_char, ent.end_char, ent.label_)"
   ]
  },
  {
   "cell_type": "markdown",
   "metadata": {},
   "source": [
    "You do many other things with spaCy, for example, you can see the tags assigned to each token in the sentence:"
   ]
  },
  {
   "cell_type": "code",
   "execution_count": null,
   "metadata": {},
   "outputs": [],
   "source": [
    "for token in doc:\n",
    "    print(f'lemma: {token.lemma_}\\t\\tPoS: {token.pos_}') "
   ]
  },
  {
   "cell_type": "markdown",
   "metadata": {},
   "source": [
    "Try to modify the sentence in the example. You can also test other languages. And if you like the simplicity this provides, check the documentation (see more info at the end of this page)."
   ]
  },
  {
   "cell_type": "markdown",
   "metadata": {},
   "source": [
    "### Highlighting named entities in the text\n",
    "\n",
    "It is also possible to visualize the NER annotations directly in the text using the `displacy` module:"
   ]
  },
  {
   "cell_type": "code",
   "execution_count": null,
   "metadata": {},
   "outputs": [],
   "source": [
    "from spacy import displacy\n",
    "\n",
    "text = \"\"\"With a degree of frustration, George tried various piano teachers for some two years (circa. 1911) \n",
    "before finally being introduced to Charles Hambitzer by Jack Miller (circa. 1913), the pianist in the Beethoven \n",
    "Symphony Orchestra. Until his death in 1918, Hambitzer remained Gershwin's musical mentor and taught him conventional \n",
    "piano technique, introduced him to music of the European classical tradition, and encouraged him to attend orchestral \n",
    "concerts. Following such concerts, young Gershwin would essentially try to play, on the piano at home, the music he had \n",
    "heard from recall, and without sheet music. As a matter of course, Gershwin later studied with the classical composer \n",
    "Rubin Goldmark and avant-garde composer-theorist Henry Cowell, thus formalizing his classical music training.\n",
    "In 1913, Gershwin left school at the age of 15 and found his first job as a \"song plugger\". His employer was Jerome H. \n",
    "Remick and Company, a Detroit-based publishing firm with a branch office on New York City's Tin Pan Alley, and he earned \n",
    "$15 a week.\n",
    "\"\"\"\n",
    "\n",
    "nlp = spacy.load('en_core_web_sm')\n",
    "doc = nlp(text)\n",
    "displacy.render(doc, style='ent', page=True)"
   ]
  },
  {
   "cell_type": "markdown",
   "metadata": {},
   "source": [
    "When working on a command-line version of Python, you can save the visualization in HTML format as follows:\n",
    "\n",
    "```\n",
    "import pathlib\n",
    "html = displacy.render(doc, style='ent', page=True)\n",
    "output_path = pathlib.Path(\"gershwin_ner.html\")\n",
    "output_path.open(\"w\", encoding=\"utf-8\").write(html)\n",
    "```"
   ]
  },
  {
   "cell_type": "markdown",
   "metadata": {},
   "source": [
    "There are many more options for producing visualizations. For instance, you can integrate the HTML directly [in a Flask application](https://spacy.io/usage/visualizers).\n",
    "\n",
    "Read through the list of different [linguistic features that spaCy offers](https://spacy.io/usage/linguistic-features). Try some of them out. Is there anything here that you would like to use for your project?\n",
    "\n",
    "<sup>Dmitry Kan and Mathias Creutz</sup>"
   ]
  },
  {
   "cell_type": "code",
   "execution_count": null,
   "metadata": {},
   "outputs": [],
   "source": []
  }
 ],
 "metadata": {
  "kernelspec": {
   "display_name": "Python 3",
   "language": "python",
   "name": "python3"
  },
  "language_info": {
   "codemirror_mode": {
    "name": "ipython",
    "version": 3
   },
   "file_extension": ".py",
   "mimetype": "text/x-python",
   "name": "python",
   "nbconvert_exporter": "python",
   "pygments_lexer": "ipython3",
   "version": "3.8.10"
  }
 },
 "nbformat": 4,
 "nbformat_minor": 4
}
