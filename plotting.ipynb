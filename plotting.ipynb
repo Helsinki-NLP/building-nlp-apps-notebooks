{
 "cells": [
  {
   "cell_type": "markdown",
   "metadata": {},
   "source": [
    "# Plotting with Python\n",
    "There are two popular libraries:  \n",
    "\n",
    "1.  [Matplotlib:](https://matplotlib.org/)  Native plotting library for Python. Can generate plots, histograms, bar charts, scatterplots, etc.  \n",
    "    \n",
    "2.  [Seaborn:](http://seaborn.pydata.org/)  Based on matplotlib, it provides easier ways to make pretty plots.\n",
    "\n",
    "We will go through what you need to know about figures and plots in matplotlib so you can get started without further confusion.  \n",
    "\n",
    "**Let's get our hands dirty!**  \n",
    "\n",
    "Since Matplotlib is the basic library, and Seaborn is an extension of it, this week we will learn more about Matplotlib, and we will just see a couple of examples on Seaborn.   "
   ]
  },
  {
   "cell_type": "markdown",
   "metadata": {},
   "source": [
    "### Install and import Matplotlib"
   ]
  },
  {
   "cell_type": "markdown",
   "metadata": {},
   "source": [
    "If you want to use Matplotlib on your terminal, you may have to install it first:\n",
    "    `pip install matplotlib`\n",
    "\n",
    "Matplotlib is already installed on CSC  notebooks, so this is not necessary here.\n",
    "\n",
    "Import `matplotlib.pyplot`, the state-based interface to Matplotlib. Matplotlib is the whole package and `matplotlib.pyplot` is a module in Matplotlib.  "
   ]
  },
  {
   "cell_type": "code",
   "execution_count": null,
   "metadata": {},
   "outputs": [],
   "source": [
    "import matplotlib.pyplot as plt"
   ]
  },
  {
   "cell_type": "markdown",
   "metadata": {},
   "source": [
    "### Create a figure"
   ]
  },
  {
   "cell_type": "code",
   "execution_count": null,
   "metadata": {},
   "outputs": [],
   "source": [
    "plt.ion()\n",
    "plt.figure()"
   ]
  },
  {
   "cell_type": "markdown",
   "metadata": {},
   "source": [
    "The first command, `plt.ion()` activates the **interactive mode**. This will make the figure window be opened as soon as you call `plt.figure()` and will change \"in real-time\" with every command you type in. You can deactivate this with the `plt.ioff()` command.\n",
    "\n",
    "The second command, `plt.figure()`, creates an **empty figure**. Even though it looks like nothing has happened, it creates a figure wih its default size."
   ]
  },
  {
   "cell_type": "markdown",
   "metadata": {},
   "source": [
    "If you use Matplotlib on your terminal, interactive mode is not available. Instead, you have to explicitly tell Matplotlib to show the figure, using the command `plt.show()`. This command opens a new window for each figure we have created, showing the plots that have been created for each of them, in our case an empty figure as the one shown below.  \n",
    "  \n",
    "![empty_figure](static/empty_figure.png)  "
   ]
  },
  {
   "cell_type": "markdown",
   "metadata": {},
   "source": [
    "### Elements of a figure\n",
    "\n",
    "Matplotlib allows for \"artisanal\" crafting of your plots, but things can turn complicated the more specific you want them.  \n",
    "The following figure (which was fully created with matplotlib) shows the parts that are most often used when plotting in Python.  \n",
    "    \n",
    "![images_anatomy.png](https://matplotlib.org/_images/anatomy.png)"
   ]
  },
  {
   "cell_type": "markdown",
   "metadata": {},
   "source": [
    "### Let's create our first plot!"
   ]
  },
  {
   "cell_type": "code",
   "execution_count": null,
   "metadata": {},
   "outputs": [],
   "source": [
    "plt.ion()    # let's turn on thew interactive mode, so you can see the changes made by each command   \n",
    "plt.figure() # create a figure   \n",
    "plt.title('This is the title of our first plot') # add a title   \n",
    "plt.xlabel('label for x-axis') # name the x-axis   \n",
    "plt.ylabel('label for y-axis') # name of the y-axis``    \n",
    "plt.grid() # activate a grid in the background\n",
    "plt.plot([1,2,3,4,5,1,10,3]) # some random numbers to create a plot  "
   ]
  },
  {
   "cell_type": "markdown",
   "metadata": {},
   "source": [
    "If you provide a single list or array to the [`plot()`](https://matplotlib.org/api/_as_gen/matplotlib.pyplot.plot.html#matplotlib.pyplot.plot \"matplotlib.pyplot.plot\") command, matplotlib assumes it is a sequence of y values, and automatically generates the x values for you.  \n",
    "    Since Python ranges start with 0, the default x vector has the same length as y but starts at 0.  \n",
    "    You can as well specify the values for x, the only requirement is that the vector x and the vector y must have the same size."
   ]
  },
  {
   "cell_type": "code",
   "execution_count": null,
   "metadata": {},
   "outputs": [],
   "source": [
    "plt.figure() # start a new figure   \n",
    "plt.plot([10,20,30,45,50,90,100,150],[1,2,3,4,5,1,10,3]) # x values first, y values second\n",
    "plt.plot([15,20,30,40,25,70,100,150],[1,2,3,4,5,1,10,5]) # add a new line plot to your current one   \n",
    "plt.plot([10,18,30,40,25,80,110,125],[4,5,3,7,5,7,11,5]) # and a third one"
   ]
  },
  {
   "cell_type": "markdown",
   "metadata": {},
   "source": [
    "### Plot in different styles\n",
    "\n",
    "As you can see from the above example, every time you add a plot it appears in a different color. You can control the appearance of any plot by using a third optional argument which is the format string that indicates the color and line type of the plot.  "
   ]
  },
  {
   "cell_type": "code",
   "execution_count": null,
   "metadata": {},
   "outputs": [],
   "source": [
    "plt.figure()                # open a a different figure   \n",
    "import numpy as np          # we use numpy to play with some numbers   \n",
    "t = np.arange(0., 5., 0.2)  # t is a vector with evenly sampled time steps every 0.2 seconds from the interval [0,5]\n",
    "plt.plot(t, t, 'r--')   # plot x=t, y=t in a red dashed line   \n",
    "plt.plot(t, t**2, 'bs') # plot x=t, y=t**2 (t squared) in blue squares\n",
    "plt.plot(t, t**3, 'g^') # plot x=t, y=t**3 (t cube) in green triangles"
   ]
  },
  {
   "cell_type": "markdown",
   "metadata": {},
   "source": [
    "The last three lines can also be merged into a single line: "
   ]
  },
  {
   "cell_type": "code",
   "execution_count": null,
   "metadata": {},
   "outputs": [],
   "source": [
    "plt.figure()\n",
    "plt.plot(t, t, 'r--', t, t**2, 'bs', t, t**3, 'g^') # red dashes, blue squares and green triangles"
   ]
  },
  {
   "cell_type": "markdown",
   "metadata": {},
   "source": [
    "There are a bunch of markers, line styles and colors you can use to fully customize your plots. Besides from the ones shown below, you can also use hexadecimal or RGB notation for the colors and other custom markers... but that falls beyond the scope of today's lecture, so if you are interested follow the links [here](https://matplotlib.org/stable/tutorials/index.html#tutorials-colors) (for colors) and [here](https://matplotlib.org/stable/api/markers_api.html) / [here](https://stackoverflow.com/questions/15866862/matplotlib-custom-markers)(for markers)  \n",
    "      \n",
    "    \n",
    "   ![markers](static/markers.png)\n",
    "    \n",
    "   ![linescolors](static/lines_and_colours.png)"
   ]
  },
  {
   "cell_type": "markdown",
   "metadata": {},
   "source": [
    "### Scatter plots\n",
    "\n",
    "Scatter plots [Wikipedia](https://en.wikipedia.org/wiki/Scatter_plot) are especially easy to do with Matplotlib. For instance, to plot 100 random numbers against 100 random numbers one only needs to type: "
   ]
  },
  {
   "cell_type": "code",
   "execution_count": null,
   "metadata": {},
   "outputs": [],
   "source": [
    "plt.figure()   \n",
    "plt.scatter(np.random.randn(100), np.random.randn(100)) # plot x=100 random numbers against y=100 random numbers  "
   ]
  },
  {
   "cell_type": "markdown",
   "metadata": {},
   "source": [
    "Scatter plots are useful since you can visually detect some trend in your variables (that later has to be verified with statistical methods). For instance, the following three figures:"
   ]
  },
  {
   "cell_type": "code",
   "execution_count": null,
   "metadata": {},
   "outputs": [],
   "source": [
    "plt.figure()   \n",
    "var_1=np.arange(100) # numbers from 0 to 100   \n",
    "var_2=var_1 * 10 * np.random.randn(100)   \n",
    "plt.scatter(var_1,var_2,color='C0') \n",
    "\n",
    "plt.figure()     \n",
    "var_3=var_1**2 + var_1 * 10 * np.random.randn(100)   \n",
    "plt.scatter(var_1,var_3,color='C1')  \n",
    "\n",
    "    \n",
    "plt.figure()   \n",
    "var_4=var_1**2 *np.random.randn(100) + var_1 * 10 * np.random.randn(100)   \n",
    "plt.scatter(var_1,var_4,color='C2')"
   ]
  },
  {
   "cell_type": "markdown",
   "metadata": {},
   "source": [
    "We can also use the color and size of the markers as another variable: "
   ]
  },
  {
   "cell_type": "code",
   "execution_count": null,
   "metadata": {},
   "outputs": [],
   "source": [
    "plt.figure()   \n",
    "plt.scatter(x=var_1,y=var_4,c=var_3, s=var_2) # using the previously defined variables"
   ]
  },
  {
   "cell_type": "markdown",
   "metadata": {},
   "source": [
    "Unlike these examples, we usually do not know how the variables depend on each other and we just have the observed values so we rely to visualization tools as a first approach to try to find evidence of such relations."
   ]
  },
  {
   "cell_type": "markdown",
   "metadata": {},
   "source": [
    "### Bar plots\n",
    "\n",
    "Bar plots [Wikipedia](https://fi.wikipedia.org/wiki/Pylv%C3%A4skaavio) can be generated like this:"
   ]
  },
  {
   "cell_type": "code",
   "execution_count": null,
   "metadata": {},
   "outputs": [],
   "source": [
    "plt.figure()   \n",
    "names = ['group_a', 'group_b', 'group_c']   \n",
    "values = [3, 10, 76]   \n",
    "plt.bar(names, values)   \n",
    "plt.title('My first bar chart')"
   ]
  },
  {
   "cell_type": "markdown",
   "metadata": {},
   "source": [
    "Another example from the documentation, where the bar plots of two groups are stacked on top of each other:"
   ]
  },
  {
   "cell_type": "code",
   "execution_count": null,
   "metadata": {},
   "outputs": [],
   "source": [
    "### These are the values we will use for our plot:\n",
    "menMeans = (20, 35, 30, 35, 27)   \n",
    "womenMeans = (25, 32, 34, 20, 25)   \n",
    "menStd = (2, 3, 4, 1, 2) # Std stands for standard deviation\n",
    "womenStd = (3, 5, 2, 3, 3)\n",
    "\n",
    "# some values to make the plots pretty\n",
    "N = len(menMeans) # all the above have to have the same length\n",
    "ind = np.arange(N) # the x locations for the groups, a vector of indexes from 0 to 4   \n",
    "width = 0.35 # the width of the bars: can also be a sequence of size len(x) so each bar will have a different width   \n",
    "\n",
    "plt.figure()\n",
    "p1 = plt.bar(ind, menMeans, width, yerr=menStd) # first bar plot   \n",
    "p2 = plt.bar(ind, womenMeans, width, bottom=menMeans, yerr=womenStd) #second bar plot   \n",
    "plt.ylabel('Scores')   \n",
    "plt.title('Scores by group and gender')   \n",
    "plt.xticks(ind, ('G1', 'G2', 'G3', 'G4', 'G5 '))   \n",
    "plt.yticks(np.arange(0, 81, 10))   \n",
    "plt.legend((p1[0], p2[0]), ('Men', 'Women')) # add a legend to the plot"
   ]
  },
  {
   "cell_type": "markdown",
   "metadata": {},
   "source": [
    "### Pie charts  \n",
    "\n",
    "Now, let's create a basic pie chart."
   ]
  },
  {
   "cell_type": "code",
   "execution_count": null,
   "metadata": {},
   "outputs": [],
   "source": [
    "labels = ['Frogs', 'Hogs', 'Dogs', 'Logs']\n",
    "sizes = [15, 30, 45, 10] # Usually, must sum 100 to have the 100% of \"a pie\"   \n",
    "explode = (0, 0.1, 0, 0) # this will make the 2nd slice be a bit outwards (i.e. 'Hogs')      \n",
    "fig1, ax1 = plt.subplots()   \n",
    "ax1.pie(sizes, explode=explode, labels=labels, autopct='%1.1f%%', shadow=True, startangle=90)   # startangle indicates which part will start \n",
    "ax1.axis('equal') # Equal aspect ratio ensures that pie is drawn as a circle.  "
   ]
  },
  {
   "cell_type": "markdown",
   "metadata": {},
   "source": [
    "### Subplots\n",
    "\n",
    "Did you notice how this time we called `fig1, ax1 = plt.subplots()` instead of `plt.figure()`?  \n",
    "This is for 2 reasons:\n",
    "1.  when we call `plt.subplots()` the method includes the creation of a figure, so that step becomes redundant.\n",
    "2.  The method `plt.subplots()` allows us to create several plots in the same figure.  \n",
    "The default is 1, so it is the same as specifying a single plot.  \n",
    "Otherwise, it receives 3 numbers:  \n",
    "number of rows, number of columns and index of the current plot (which is to be modified via the assigned variables, i.e., `fig1 and ax1` in the previous examples)"
   ]
  },
  {
   "cell_type": "code",
   "execution_count": null,
   "metadata": {},
   "outputs": [],
   "source": []
  }
 ],
 "metadata": {
  "kernelspec": {
   "display_name": "Python 3",
   "language": "python",
   "name": "python3"
  },
  "language_info": {
   "codemirror_mode": {
    "name": "ipython",
    "version": 3
   },
   "file_extension": ".py",
   "mimetype": "text/x-python",
   "name": "python",
   "nbconvert_exporter": "python",
   "pygments_lexer": "ipython3",
   "version": "3.8.10"
  }
 },
 "nbformat": 4,
 "nbformat_minor": 4
}
